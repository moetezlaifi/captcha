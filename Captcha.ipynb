{
  "nbformat": 4,
  "nbformat_minor": 0,
  "metadata": {
    "colab": {
      "provenance": [],
      "gpuType": "T4"
    },
    "kernelspec": {
      "name": "python3",
      "display_name": "Python 3"
    },
    "language_info": {
      "name": "python"
    },
    "accelerator": "GPU"
  },
  "cells": [
    {
      "cell_type": "markdown",
      "source": [
        "# Breaking a CAPTCHA with Deep Learning\n",
        "This notebook demonstrates how to break simple 5-character CAPTCHA images using a Convolutional Neural Network (CNN).\n",
        "\n",
        "We:\n",
        "- Generate synthetic CAPTCHA images\n",
        "- Train a CNN model to recognize characters\n",
        "- Predict CAPTCHA text from real or synthetic inputs\n",
        "\n",
        "---\n",
        "\n",
        "\n",
        "\n"
      ],
      "metadata": {
        "id": "Vim5Xh_Pqaly"
      }
    },
    {
      "cell_type": "markdown",
      "source": [
        "##Generate CAPTCHA Training and Validation Datasets"
      ],
      "metadata": {
        "id": "FZWV68mhq8V0"
      }
    },
    {
      "cell_type": "code",
      "execution_count": 5,
      "metadata": {
        "colab": {
          "base_uri": "https://localhost:8080/"
        },
        "id": "AiosXelDY7WD",
        "outputId": "ac8fecb6-27ab-4756-ac8a-b649570f57d5"
      },
      "outputs": [
        {
          "output_type": "stream",
          "name": "stdout",
          "text": [
            "Loaded 16 fonts.\n",
            "Generated 40000 images in train_captcha_images/\n",
            "Generated 10000 images in val_captcha_images/\n"
          ]
        }
      ],
      "source": [
        "import os\n",
        "import random\n",
        "import string\n",
        "from PIL import Image, ImageDraw, ImageFont\n",
        "import glob\n",
        "\n",
        "\n",
        "TRAIN_DIR = 'train_captcha_images/'\n",
        "VAL_DIR = 'val_captcha_images/'\n",
        "NUM_TRAIN_IMAGES = 40000\n",
        "NUM_VAL_IMAGES = 10000\n",
        "CHARS = string.ascii_uppercase + string.digits\n",
        "IMAGE_SIZE = (100, 40)\n",
        "FONT_SIZE = 30\n",
        "\n",
        "\n",
        "os.makedirs(TRAIN_DIR, exist_ok=True)\n",
        "os.makedirs(VAL_DIR, exist_ok=True)\n",
        "\n",
        "\n",
        "fonts = []\n",
        "with open(\"fonts.txt\") as f:\n",
        "    content = f.readlines()\n",
        "acceptable_fonts = set(x.strip() for x in content)\n",
        "\n",
        "\n",
        "for filename in glob.iglob('/usr/share/fonts/truetype/**/*.ttf', recursive=True):\n",
        "    if filename in acceptable_fonts:\n",
        "        try:\n",
        "            fonts.append(ImageFont.truetype(filename, FONT_SIZE))\n",
        "        except:\n",
        "            continue\n",
        "\n",
        "print(f\"Loaded {len(fonts)} fonts.\")\n",
        "\n",
        "\n",
        "def generate_images(output_dir, num_images):\n",
        "    words = set()\n",
        "    while len(words) < num_images:\n",
        "        word = ''.join(random.choices(CHARS, k=5))\n",
        "        if word in words:\n",
        "            continue\n",
        "        words.add(word)\n",
        "        img = Image.new(\"L\", IMAGE_SIZE, color=255)\n",
        "        draw = ImageDraw.Draw(img)\n",
        "        font = random.choice(fonts)\n",
        "        draw.text((10, 5), word, font=font, fill=0)\n",
        "        img.save(os.path.join(output_dir, f\"{word}.png\"))\n",
        "    print(f\"Generated {num_images} images in {output_dir}\")\n",
        "\n",
        "\n",
        "generate_images(TRAIN_DIR, NUM_TRAIN_IMAGES)\n",
        "generate_images(VAL_DIR, NUM_VAL_IMAGES)\n"
      ]
    },
    {
      "cell_type": "markdown",
      "source": [
        "### Load CAPTCHA Images and Encode Labels"
      ],
      "metadata": {
        "id": "GobQaZ8lrhyy"
      }
    },
    {
      "cell_type": "code",
      "source": [
        "import numpy as np\n",
        "import tensorflow as tf\n",
        "from tensorflow.keras import layers, models\n",
        "from PIL import Image\n",
        "import os\n",
        "import string\n",
        "\n",
        "IMG_WIDTH, IMG_HEIGHT = 100, 40\n",
        "NUM_CLASSES = 36\n",
        "CAPTCHA_LENGTH = 5\n",
        "CHARS = string.digits + string.ascii_uppercase\n",
        "char_to_num = {c: i for i, c in enumerate(CHARS)}\n",
        "num_to_char = {i: c for i, c in enumerate(CHARS)}\n",
        "\n",
        "def load_data(data_dir):\n",
        "    images = []\n",
        "    labels = []\n",
        "    for filename in os.listdir(data_dir):\n",
        "        if filename.endswith('.png'):\n",
        "            img_path = os.path.join(data_dir, filename)\n",
        "            img = Image.open(img_path).convert('L').resize((IMG_WIDTH, IMG_HEIGHT))\n",
        "            img = np.array(img) / 255.0\n",
        "            images.append(img)\n",
        "\n",
        "            label_str = filename[:-4]\n",
        "            label_encoded = [char_to_num[c] for c in label_str]\n",
        "            labels.append(label_encoded)\n",
        "    images = np.array(images).reshape(-1, IMG_HEIGHT, IMG_WIDTH, 1)\n",
        "    labels = np.array(labels)\n",
        "    return images, labels\n"
      ],
      "metadata": {
        "id": "tF84vMn_arlX"
      },
      "execution_count": 6,
      "outputs": []
    },
    {
      "cell_type": "markdown",
      "source": [
        "### Load and Inspect Training & Validation Data"
      ],
      "metadata": {
        "id": "LOPB3XQYslTP"
      }
    },
    {
      "cell_type": "code",
      "source": [
        "print(\"Loading training data...\")\n",
        "X_train, y_train = load_data(TRAIN_DIR)\n",
        "print(f\"Training data shape: {X_train.shape}, Labels shape: {y_train.shape}\")\n",
        "\n",
        "print(\"Loading validation data...\")\n",
        "X_val, y_val = load_data(VAL_DIR)\n",
        "print(f\"Validation data shape: {X_val.shape}, Labels shape: {y_val.shape}\")\n"
      ],
      "metadata": {
        "colab": {
          "base_uri": "https://localhost:8080/"
        },
        "id": "791RsqjYa0Kt",
        "outputId": "8a268e89-880f-49d9-daf0-50c6a5bffe38"
      },
      "execution_count": 7,
      "outputs": [
        {
          "output_type": "stream",
          "name": "stdout",
          "text": [
            "Loading training data...\n",
            "Training data shape: (40000, 40, 100, 1), Labels shape: (40000, 5)\n",
            "Loading validation data...\n",
            "Validation data shape: (10000, 40, 100, 1), Labels shape: (10000, 5)\n"
          ]
        }
      ]
    },
    {
      "cell_type": "markdown",
      "source": [
        "### One-Hot Encode CAPTCHA Labels"
      ],
      "metadata": {
        "id": "DeVL9H8JssuB"
      }
    },
    {
      "cell_type": "code",
      "source": [
        "def one_hot_encode_labels(labels):\n",
        "    encoded = np.zeros((labels.shape[0], CAPTCHA_LENGTH, NUM_CLASSES))\n",
        "    for i in range(labels.shape[0]):\n",
        "        for j in range(CAPTCHA_LENGTH):\n",
        "            encoded[i, j, labels[i, j]] = 1\n",
        "    return encoded\n",
        "\n",
        "y_train_ohe = one_hot_encode_labels(y_train)\n",
        "y_val_ohe = one_hot_encode_labels(y_val)\n",
        "\n",
        "print(\"One-hot encoded labels shape:\", y_train_ohe.shape)\n"
      ],
      "metadata": {
        "colab": {
          "base_uri": "https://localhost:8080/"
        },
        "id": "96y-UEhSa_L8",
        "outputId": "c2fcd467-523f-4415-cfec-73d9ec82ce9d"
      },
      "execution_count": 8,
      "outputs": [
        {
          "output_type": "stream",
          "name": "stdout",
          "text": [
            "One-hot encoded labels shape: (40000, 5, 36)\n"
          ]
        }
      ]
    },
    {
      "cell_type": "markdown",
      "source": [
        "### Build CNN Model for Multi-Character CAPTCHA Recognition"
      ],
      "metadata": {
        "id": "EaeUe7FDsvnh"
      }
    },
    {
      "cell_type": "code",
      "source": [
        "def build_model():\n",
        "    input_layer = layers.Input(shape=(IMG_HEIGHT, IMG_WIDTH, 1))\n",
        "\n",
        "    x = layers.Conv2D(32, (3,3), activation='relu', padding='same')(input_layer)\n",
        "    x = layers.MaxPooling2D((2,2))(x)\n",
        "\n",
        "    x = layers.Conv2D(64, (3,3), activation='relu', padding='same')(x)\n",
        "    x = layers.MaxPooling2D((2,2))(x)\n",
        "\n",
        "    x = layers.Conv2D(128, (3,3), activation='relu', padding='same')(x)\n",
        "    x = layers.MaxPooling2D((2,2))(x)\n",
        "\n",
        "    x = layers.Flatten()(x)\n",
        "    x = layers.Dropout(0.5)(x)\n",
        "\n",
        "    output_layers = []\n",
        "    for i in range(CAPTCHA_LENGTH):\n",
        "        output_layers.append(layers.Dense(NUM_CLASSES, activation='softmax', name=f'char_{i}')(x))\n",
        "\n",
        "    model = models.Model(inputs=input_layer, outputs=output_layers)\n",
        "    return model\n",
        "\n",
        "model = build_model()\n",
        "model.summary()\n"
      ],
      "metadata": {
        "colab": {
          "base_uri": "https://localhost:8080/",
          "height": 689
        },
        "id": "mYCTbx-wc8ui",
        "outputId": "23dae0e9-5361-4d5f-e02f-63cd03c82156"
      },
      "execution_count": 9,
      "outputs": [
        {
          "output_type": "display_data",
          "data": {
            "text/plain": [
              "\u001b[1mModel: \"functional\"\u001b[0m\n"
            ],
            "text/html": [
              "<pre style=\"white-space:pre;overflow-x:auto;line-height:normal;font-family:Menlo,'DejaVu Sans Mono',consolas,'Courier New',monospace\"><span style=\"font-weight: bold\">Model: \"functional\"</span>\n",
              "</pre>\n"
            ]
          },
          "metadata": {}
        },
        {
          "output_type": "display_data",
          "data": {
            "text/plain": [
              "┏━━━━━━━━━━━━━━━━━━━━━┳━━━━━━━━━━━━━━━━━━━┳━━━━━━━━━━━━┳━━━━━━━━━━━━━━━━━━━┓\n",
              "┃\u001b[1m \u001b[0m\u001b[1mLayer (type)       \u001b[0m\u001b[1m \u001b[0m┃\u001b[1m \u001b[0m\u001b[1mOutput Shape     \u001b[0m\u001b[1m \u001b[0m┃\u001b[1m \u001b[0m\u001b[1m   Param #\u001b[0m\u001b[1m \u001b[0m┃\u001b[1m \u001b[0m\u001b[1mConnected to     \u001b[0m\u001b[1m \u001b[0m┃\n",
              "┡━━━━━━━━━━━━━━━━━━━━━╇━━━━━━━━━━━━━━━━━━━╇━━━━━━━━━━━━╇━━━━━━━━━━━━━━━━━━━┩\n",
              "│ input_layer         │ (\u001b[38;5;45mNone\u001b[0m, \u001b[38;5;34m40\u001b[0m, \u001b[38;5;34m100\u001b[0m,   │          \u001b[38;5;34m0\u001b[0m │ -                 │\n",
              "│ (\u001b[38;5;33mInputLayer\u001b[0m)        │ \u001b[38;5;34m1\u001b[0m)                │            │                   │\n",
              "├─────────────────────┼───────────────────┼────────────┼───────────────────┤\n",
              "│ conv2d (\u001b[38;5;33mConv2D\u001b[0m)     │ (\u001b[38;5;45mNone\u001b[0m, \u001b[38;5;34m40\u001b[0m, \u001b[38;5;34m100\u001b[0m,   │        \u001b[38;5;34m320\u001b[0m │ input_layer[\u001b[38;5;34m0\u001b[0m][\u001b[38;5;34m0\u001b[0m] │\n",
              "│                     │ \u001b[38;5;34m32\u001b[0m)               │            │                   │\n",
              "├─────────────────────┼───────────────────┼────────────┼───────────────────┤\n",
              "│ max_pooling2d       │ (\u001b[38;5;45mNone\u001b[0m, \u001b[38;5;34m20\u001b[0m, \u001b[38;5;34m50\u001b[0m,    │          \u001b[38;5;34m0\u001b[0m │ conv2d[\u001b[38;5;34m0\u001b[0m][\u001b[38;5;34m0\u001b[0m]      │\n",
              "│ (\u001b[38;5;33mMaxPooling2D\u001b[0m)      │ \u001b[38;5;34m32\u001b[0m)               │            │                   │\n",
              "├─────────────────────┼───────────────────┼────────────┼───────────────────┤\n",
              "│ conv2d_1 (\u001b[38;5;33mConv2D\u001b[0m)   │ (\u001b[38;5;45mNone\u001b[0m, \u001b[38;5;34m20\u001b[0m, \u001b[38;5;34m50\u001b[0m,    │     \u001b[38;5;34m18,496\u001b[0m │ max_pooling2d[\u001b[38;5;34m0\u001b[0m]… │\n",
              "│                     │ \u001b[38;5;34m64\u001b[0m)               │            │                   │\n",
              "├─────────────────────┼───────────────────┼────────────┼───────────────────┤\n",
              "│ max_pooling2d_1     │ (\u001b[38;5;45mNone\u001b[0m, \u001b[38;5;34m10\u001b[0m, \u001b[38;5;34m25\u001b[0m,    │          \u001b[38;5;34m0\u001b[0m │ conv2d_1[\u001b[38;5;34m0\u001b[0m][\u001b[38;5;34m0\u001b[0m]    │\n",
              "│ (\u001b[38;5;33mMaxPooling2D\u001b[0m)      │ \u001b[38;5;34m64\u001b[0m)               │            │                   │\n",
              "├─────────────────────┼───────────────────┼────────────┼───────────────────┤\n",
              "│ conv2d_2 (\u001b[38;5;33mConv2D\u001b[0m)   │ (\u001b[38;5;45mNone\u001b[0m, \u001b[38;5;34m10\u001b[0m, \u001b[38;5;34m25\u001b[0m,    │     \u001b[38;5;34m73,856\u001b[0m │ max_pooling2d_1[\u001b[38;5;34m…\u001b[0m │\n",
              "│                     │ \u001b[38;5;34m128\u001b[0m)              │            │                   │\n",
              "├─────────────────────┼───────────────────┼────────────┼───────────────────┤\n",
              "│ max_pooling2d_2     │ (\u001b[38;5;45mNone\u001b[0m, \u001b[38;5;34m5\u001b[0m, \u001b[38;5;34m12\u001b[0m,     │          \u001b[38;5;34m0\u001b[0m │ conv2d_2[\u001b[38;5;34m0\u001b[0m][\u001b[38;5;34m0\u001b[0m]    │\n",
              "│ (\u001b[38;5;33mMaxPooling2D\u001b[0m)      │ \u001b[38;5;34m128\u001b[0m)              │            │                   │\n",
              "├─────────────────────┼───────────────────┼────────────┼───────────────────┤\n",
              "│ flatten (\u001b[38;5;33mFlatten\u001b[0m)   │ (\u001b[38;5;45mNone\u001b[0m, \u001b[38;5;34m7680\u001b[0m)      │          \u001b[38;5;34m0\u001b[0m │ max_pooling2d_2[\u001b[38;5;34m…\u001b[0m │\n",
              "├─────────────────────┼───────────────────┼────────────┼───────────────────┤\n",
              "│ dropout (\u001b[38;5;33mDropout\u001b[0m)   │ (\u001b[38;5;45mNone\u001b[0m, \u001b[38;5;34m7680\u001b[0m)      │          \u001b[38;5;34m0\u001b[0m │ flatten[\u001b[38;5;34m0\u001b[0m][\u001b[38;5;34m0\u001b[0m]     │\n",
              "├─────────────────────┼───────────────────┼────────────┼───────────────────┤\n",
              "│ char_0 (\u001b[38;5;33mDense\u001b[0m)      │ (\u001b[38;5;45mNone\u001b[0m, \u001b[38;5;34m36\u001b[0m)        │    \u001b[38;5;34m276,516\u001b[0m │ dropout[\u001b[38;5;34m0\u001b[0m][\u001b[38;5;34m0\u001b[0m]     │\n",
              "├─────────────────────┼───────────────────┼────────────┼───────────────────┤\n",
              "│ char_1 (\u001b[38;5;33mDense\u001b[0m)      │ (\u001b[38;5;45mNone\u001b[0m, \u001b[38;5;34m36\u001b[0m)        │    \u001b[38;5;34m276,516\u001b[0m │ dropout[\u001b[38;5;34m0\u001b[0m][\u001b[38;5;34m0\u001b[0m]     │\n",
              "├─────────────────────┼───────────────────┼────────────┼───────────────────┤\n",
              "│ char_2 (\u001b[38;5;33mDense\u001b[0m)      │ (\u001b[38;5;45mNone\u001b[0m, \u001b[38;5;34m36\u001b[0m)        │    \u001b[38;5;34m276,516\u001b[0m │ dropout[\u001b[38;5;34m0\u001b[0m][\u001b[38;5;34m0\u001b[0m]     │\n",
              "├─────────────────────┼───────────────────┼────────────┼───────────────────┤\n",
              "│ char_3 (\u001b[38;5;33mDense\u001b[0m)      │ (\u001b[38;5;45mNone\u001b[0m, \u001b[38;5;34m36\u001b[0m)        │    \u001b[38;5;34m276,516\u001b[0m │ dropout[\u001b[38;5;34m0\u001b[0m][\u001b[38;5;34m0\u001b[0m]     │\n",
              "├─────────────────────┼───────────────────┼────────────┼───────────────────┤\n",
              "│ char_4 (\u001b[38;5;33mDense\u001b[0m)      │ (\u001b[38;5;45mNone\u001b[0m, \u001b[38;5;34m36\u001b[0m)        │    \u001b[38;5;34m276,516\u001b[0m │ dropout[\u001b[38;5;34m0\u001b[0m][\u001b[38;5;34m0\u001b[0m]     │\n",
              "└─────────────────────┴───────────────────┴────────────┴───────────────────┘\n"
            ],
            "text/html": [
              "<pre style=\"white-space:pre;overflow-x:auto;line-height:normal;font-family:Menlo,'DejaVu Sans Mono',consolas,'Courier New',monospace\">┏━━━━━━━━━━━━━━━━━━━━━┳━━━━━━━━━━━━━━━━━━━┳━━━━━━━━━━━━┳━━━━━━━━━━━━━━━━━━━┓\n",
              "┃<span style=\"font-weight: bold\"> Layer (type)        </span>┃<span style=\"font-weight: bold\"> Output Shape      </span>┃<span style=\"font-weight: bold\">    Param # </span>┃<span style=\"font-weight: bold\"> Connected to      </span>┃\n",
              "┡━━━━━━━━━━━━━━━━━━━━━╇━━━━━━━━━━━━━━━━━━━╇━━━━━━━━━━━━╇━━━━━━━━━━━━━━━━━━━┩\n",
              "│ input_layer         │ (<span style=\"color: #00d7ff; text-decoration-color: #00d7ff\">None</span>, <span style=\"color: #00af00; text-decoration-color: #00af00\">40</span>, <span style=\"color: #00af00; text-decoration-color: #00af00\">100</span>,   │          <span style=\"color: #00af00; text-decoration-color: #00af00\">0</span> │ -                 │\n",
              "│ (<span style=\"color: #0087ff; text-decoration-color: #0087ff\">InputLayer</span>)        │ <span style=\"color: #00af00; text-decoration-color: #00af00\">1</span>)                │            │                   │\n",
              "├─────────────────────┼───────────────────┼────────────┼───────────────────┤\n",
              "│ conv2d (<span style=\"color: #0087ff; text-decoration-color: #0087ff\">Conv2D</span>)     │ (<span style=\"color: #00d7ff; text-decoration-color: #00d7ff\">None</span>, <span style=\"color: #00af00; text-decoration-color: #00af00\">40</span>, <span style=\"color: #00af00; text-decoration-color: #00af00\">100</span>,   │        <span style=\"color: #00af00; text-decoration-color: #00af00\">320</span> │ input_layer[<span style=\"color: #00af00; text-decoration-color: #00af00\">0</span>][<span style=\"color: #00af00; text-decoration-color: #00af00\">0</span>] │\n",
              "│                     │ <span style=\"color: #00af00; text-decoration-color: #00af00\">32</span>)               │            │                   │\n",
              "├─────────────────────┼───────────────────┼────────────┼───────────────────┤\n",
              "│ max_pooling2d       │ (<span style=\"color: #00d7ff; text-decoration-color: #00d7ff\">None</span>, <span style=\"color: #00af00; text-decoration-color: #00af00\">20</span>, <span style=\"color: #00af00; text-decoration-color: #00af00\">50</span>,    │          <span style=\"color: #00af00; text-decoration-color: #00af00\">0</span> │ conv2d[<span style=\"color: #00af00; text-decoration-color: #00af00\">0</span>][<span style=\"color: #00af00; text-decoration-color: #00af00\">0</span>]      │\n",
              "│ (<span style=\"color: #0087ff; text-decoration-color: #0087ff\">MaxPooling2D</span>)      │ <span style=\"color: #00af00; text-decoration-color: #00af00\">32</span>)               │            │                   │\n",
              "├─────────────────────┼───────────────────┼────────────┼───────────────────┤\n",
              "│ conv2d_1 (<span style=\"color: #0087ff; text-decoration-color: #0087ff\">Conv2D</span>)   │ (<span style=\"color: #00d7ff; text-decoration-color: #00d7ff\">None</span>, <span style=\"color: #00af00; text-decoration-color: #00af00\">20</span>, <span style=\"color: #00af00; text-decoration-color: #00af00\">50</span>,    │     <span style=\"color: #00af00; text-decoration-color: #00af00\">18,496</span> │ max_pooling2d[<span style=\"color: #00af00; text-decoration-color: #00af00\">0</span>]… │\n",
              "│                     │ <span style=\"color: #00af00; text-decoration-color: #00af00\">64</span>)               │            │                   │\n",
              "├─────────────────────┼───────────────────┼────────────┼───────────────────┤\n",
              "│ max_pooling2d_1     │ (<span style=\"color: #00d7ff; text-decoration-color: #00d7ff\">None</span>, <span style=\"color: #00af00; text-decoration-color: #00af00\">10</span>, <span style=\"color: #00af00; text-decoration-color: #00af00\">25</span>,    │          <span style=\"color: #00af00; text-decoration-color: #00af00\">0</span> │ conv2d_1[<span style=\"color: #00af00; text-decoration-color: #00af00\">0</span>][<span style=\"color: #00af00; text-decoration-color: #00af00\">0</span>]    │\n",
              "│ (<span style=\"color: #0087ff; text-decoration-color: #0087ff\">MaxPooling2D</span>)      │ <span style=\"color: #00af00; text-decoration-color: #00af00\">64</span>)               │            │                   │\n",
              "├─────────────────────┼───────────────────┼────────────┼───────────────────┤\n",
              "│ conv2d_2 (<span style=\"color: #0087ff; text-decoration-color: #0087ff\">Conv2D</span>)   │ (<span style=\"color: #00d7ff; text-decoration-color: #00d7ff\">None</span>, <span style=\"color: #00af00; text-decoration-color: #00af00\">10</span>, <span style=\"color: #00af00; text-decoration-color: #00af00\">25</span>,    │     <span style=\"color: #00af00; text-decoration-color: #00af00\">73,856</span> │ max_pooling2d_1[<span style=\"color: #00af00; text-decoration-color: #00af00\">…</span> │\n",
              "│                     │ <span style=\"color: #00af00; text-decoration-color: #00af00\">128</span>)              │            │                   │\n",
              "├─────────────────────┼───────────────────┼────────────┼───────────────────┤\n",
              "│ max_pooling2d_2     │ (<span style=\"color: #00d7ff; text-decoration-color: #00d7ff\">None</span>, <span style=\"color: #00af00; text-decoration-color: #00af00\">5</span>, <span style=\"color: #00af00; text-decoration-color: #00af00\">12</span>,     │          <span style=\"color: #00af00; text-decoration-color: #00af00\">0</span> │ conv2d_2[<span style=\"color: #00af00; text-decoration-color: #00af00\">0</span>][<span style=\"color: #00af00; text-decoration-color: #00af00\">0</span>]    │\n",
              "│ (<span style=\"color: #0087ff; text-decoration-color: #0087ff\">MaxPooling2D</span>)      │ <span style=\"color: #00af00; text-decoration-color: #00af00\">128</span>)              │            │                   │\n",
              "├─────────────────────┼───────────────────┼────────────┼───────────────────┤\n",
              "│ flatten (<span style=\"color: #0087ff; text-decoration-color: #0087ff\">Flatten</span>)   │ (<span style=\"color: #00d7ff; text-decoration-color: #00d7ff\">None</span>, <span style=\"color: #00af00; text-decoration-color: #00af00\">7680</span>)      │          <span style=\"color: #00af00; text-decoration-color: #00af00\">0</span> │ max_pooling2d_2[<span style=\"color: #00af00; text-decoration-color: #00af00\">…</span> │\n",
              "├─────────────────────┼───────────────────┼────────────┼───────────────────┤\n",
              "│ dropout (<span style=\"color: #0087ff; text-decoration-color: #0087ff\">Dropout</span>)   │ (<span style=\"color: #00d7ff; text-decoration-color: #00d7ff\">None</span>, <span style=\"color: #00af00; text-decoration-color: #00af00\">7680</span>)      │          <span style=\"color: #00af00; text-decoration-color: #00af00\">0</span> │ flatten[<span style=\"color: #00af00; text-decoration-color: #00af00\">0</span>][<span style=\"color: #00af00; text-decoration-color: #00af00\">0</span>]     │\n",
              "├─────────────────────┼───────────────────┼────────────┼───────────────────┤\n",
              "│ char_0 (<span style=\"color: #0087ff; text-decoration-color: #0087ff\">Dense</span>)      │ (<span style=\"color: #00d7ff; text-decoration-color: #00d7ff\">None</span>, <span style=\"color: #00af00; text-decoration-color: #00af00\">36</span>)        │    <span style=\"color: #00af00; text-decoration-color: #00af00\">276,516</span> │ dropout[<span style=\"color: #00af00; text-decoration-color: #00af00\">0</span>][<span style=\"color: #00af00; text-decoration-color: #00af00\">0</span>]     │\n",
              "├─────────────────────┼───────────────────┼────────────┼───────────────────┤\n",
              "│ char_1 (<span style=\"color: #0087ff; text-decoration-color: #0087ff\">Dense</span>)      │ (<span style=\"color: #00d7ff; text-decoration-color: #00d7ff\">None</span>, <span style=\"color: #00af00; text-decoration-color: #00af00\">36</span>)        │    <span style=\"color: #00af00; text-decoration-color: #00af00\">276,516</span> │ dropout[<span style=\"color: #00af00; text-decoration-color: #00af00\">0</span>][<span style=\"color: #00af00; text-decoration-color: #00af00\">0</span>]     │\n",
              "├─────────────────────┼───────────────────┼────────────┼───────────────────┤\n",
              "│ char_2 (<span style=\"color: #0087ff; text-decoration-color: #0087ff\">Dense</span>)      │ (<span style=\"color: #00d7ff; text-decoration-color: #00d7ff\">None</span>, <span style=\"color: #00af00; text-decoration-color: #00af00\">36</span>)        │    <span style=\"color: #00af00; text-decoration-color: #00af00\">276,516</span> │ dropout[<span style=\"color: #00af00; text-decoration-color: #00af00\">0</span>][<span style=\"color: #00af00; text-decoration-color: #00af00\">0</span>]     │\n",
              "├─────────────────────┼───────────────────┼────────────┼───────────────────┤\n",
              "│ char_3 (<span style=\"color: #0087ff; text-decoration-color: #0087ff\">Dense</span>)      │ (<span style=\"color: #00d7ff; text-decoration-color: #00d7ff\">None</span>, <span style=\"color: #00af00; text-decoration-color: #00af00\">36</span>)        │    <span style=\"color: #00af00; text-decoration-color: #00af00\">276,516</span> │ dropout[<span style=\"color: #00af00; text-decoration-color: #00af00\">0</span>][<span style=\"color: #00af00; text-decoration-color: #00af00\">0</span>]     │\n",
              "├─────────────────────┼───────────────────┼────────────┼───────────────────┤\n",
              "│ char_4 (<span style=\"color: #0087ff; text-decoration-color: #0087ff\">Dense</span>)      │ (<span style=\"color: #00d7ff; text-decoration-color: #00d7ff\">None</span>, <span style=\"color: #00af00; text-decoration-color: #00af00\">36</span>)        │    <span style=\"color: #00af00; text-decoration-color: #00af00\">276,516</span> │ dropout[<span style=\"color: #00af00; text-decoration-color: #00af00\">0</span>][<span style=\"color: #00af00; text-decoration-color: #00af00\">0</span>]     │\n",
              "└─────────────────────┴───────────────────┴────────────┴───────────────────┘\n",
              "</pre>\n"
            ]
          },
          "metadata": {}
        },
        {
          "output_type": "display_data",
          "data": {
            "text/plain": [
              "\u001b[1m Total params: \u001b[0m\u001b[38;5;34m1,475,252\u001b[0m (5.63 MB)\n"
            ],
            "text/html": [
              "<pre style=\"white-space:pre;overflow-x:auto;line-height:normal;font-family:Menlo,'DejaVu Sans Mono',consolas,'Courier New',monospace\"><span style=\"font-weight: bold\"> Total params: </span><span style=\"color: #00af00; text-decoration-color: #00af00\">1,475,252</span> (5.63 MB)\n",
              "</pre>\n"
            ]
          },
          "metadata": {}
        },
        {
          "output_type": "display_data",
          "data": {
            "text/plain": [
              "\u001b[1m Trainable params: \u001b[0m\u001b[38;5;34m1,475,252\u001b[0m (5.63 MB)\n"
            ],
            "text/html": [
              "<pre style=\"white-space:pre;overflow-x:auto;line-height:normal;font-family:Menlo,'DejaVu Sans Mono',consolas,'Courier New',monospace\"><span style=\"font-weight: bold\"> Trainable params: </span><span style=\"color: #00af00; text-decoration-color: #00af00\">1,475,252</span> (5.63 MB)\n",
              "</pre>\n"
            ]
          },
          "metadata": {}
        },
        {
          "output_type": "display_data",
          "data": {
            "text/plain": [
              "\u001b[1m Non-trainable params: \u001b[0m\u001b[38;5;34m0\u001b[0m (0.00 B)\n"
            ],
            "text/html": [
              "<pre style=\"white-space:pre;overflow-x:auto;line-height:normal;font-family:Menlo,'DejaVu Sans Mono',consolas,'Courier New',monospace\"><span style=\"font-weight: bold\"> Non-trainable params: </span><span style=\"color: #00af00; text-decoration-color: #00af00\">0</span> (0.00 B)\n",
              "</pre>\n"
            ]
          },
          "metadata": {}
        }
      ]
    },
    {
      "cell_type": "markdown",
      "source": [
        "### Compile the Model and Prepare Multi-Output Labels"
      ],
      "metadata": {
        "id": "CxcT1VVTs37R"
      }
    },
    {
      "cell_type": "code",
      "source": [
        "model.compile(\n",
        "    optimizer='adam',\n",
        "    loss=['categorical_crossentropy'] * CAPTCHA_LENGTH,\n",
        "    metrics=['accuracy'] * CAPTCHA_LENGTH\n",
        ")\n",
        "\n",
        "\n",
        "y_train_list = [y_train_ohe[:, i, :] for i in range(CAPTCHA_LENGTH)]\n",
        "y_val_list = [y_val_ohe[:, i, :] for i in range(CAPTCHA_LENGTH)]\n"
      ],
      "metadata": {
        "id": "fKWrMXA0dAeb"
      },
      "execution_count": 10,
      "outputs": []
    },
    {
      "cell_type": "markdown",
      "source": [
        "### Train the CAPTCHA Recognition Model"
      ],
      "metadata": {
        "id": "t8Z0IfIrtD-t"
      }
    },
    {
      "cell_type": "code",
      "source": [
        "history = model.fit(\n",
        "    X_train, y_train_list,\n",
        "    validation_data=(X_val, y_val_list),\n",
        "    batch_size=64,\n",
        "    epochs=10\n",
        ")\n"
      ],
      "metadata": {
        "colab": {
          "base_uri": "https://localhost:8080/"
        },
        "id": "dtvp5HGAdHJX",
        "outputId": "bd119e89-4ea6-464b-81c8-6ff217532e95"
      },
      "execution_count": 12,
      "outputs": [
        {
          "output_type": "stream",
          "name": "stdout",
          "text": [
            "Epoch 1/10\n",
            "\u001b[1m625/625\u001b[0m \u001b[32m━━━━━━━━━━━━━━━━━━━━\u001b[0m\u001b[37m\u001b[0m \u001b[1m10s\u001b[0m 16ms/step - char_0_accuracy: 0.9999 - char_0_loss: 0.0015 - char_1_accuracy: 0.9957 - char_1_loss: 0.0173 - char_2_accuracy: 0.9678 - char_2_loss: 0.1063 - char_3_accuracy: 0.9397 - char_3_loss: 0.2094 - char_4_accuracy: 0.8946 - char_4_loss: 0.4049 - loss: 0.7395 - val_char_0_accuracy: 1.0000 - val_char_0_loss: 1.2998e-04 - val_char_1_accuracy: 0.9967 - val_char_1_loss: 0.0127 - val_char_2_accuracy: 0.9634 - val_char_2_loss: 0.1472 - val_char_3_accuracy: 0.9416 - val_char_3_loss: 0.2200 - val_char_4_accuracy: 0.8970 - val_char_4_loss: 0.4551 - val_loss: 0.8331\n",
            "Epoch 2/10\n",
            "\u001b[1m625/625\u001b[0m \u001b[32m━━━━━━━━━━━━━━━━━━━━\u001b[0m\u001b[37m\u001b[0m \u001b[1m9s\u001b[0m 15ms/step - char_0_accuracy: 0.9998 - char_0_loss: 0.0014 - char_1_accuracy: 0.9962 - char_1_loss: 0.0161 - char_2_accuracy: 0.9700 - char_2_loss: 0.1063 - char_3_accuracy: 0.9421 - char_3_loss: 0.1949 - char_4_accuracy: 0.8977 - char_4_loss: 0.3876 - loss: 0.7063 - val_char_0_accuracy: 1.0000 - val_char_0_loss: 5.6393e-05 - val_char_1_accuracy: 0.9964 - val_char_1_loss: 0.0130 - val_char_2_accuracy: 0.9660 - val_char_2_loss: 0.1525 - val_char_3_accuracy: 0.9400 - val_char_3_loss: 0.2261 - val_char_4_accuracy: 0.8987 - val_char_4_loss: 0.4569 - val_loss: 0.8476\n",
            "Epoch 3/10\n",
            "\u001b[1m625/625\u001b[0m \u001b[32m━━━━━━━━━━━━━━━━━━━━\u001b[0m\u001b[37m\u001b[0m \u001b[1m10s\u001b[0m 14ms/step - char_0_accuracy: 0.9999 - char_0_loss: 0.0011 - char_1_accuracy: 0.9963 - char_1_loss: 0.0149 - char_2_accuracy: 0.9703 - char_2_loss: 0.1005 - char_3_accuracy: 0.9432 - char_3_loss: 0.1861 - char_4_accuracy: 0.8992 - char_4_loss: 0.3820 - loss: 0.6847 - val_char_0_accuracy: 1.0000 - val_char_0_loss: 2.0210e-04 - val_char_1_accuracy: 0.9953 - val_char_1_loss: 0.0170 - val_char_2_accuracy: 0.9644 - val_char_2_loss: 0.1430 - val_char_3_accuracy: 0.9459 - val_char_3_loss: 0.2045 - val_char_4_accuracy: 0.8994 - val_char_4_loss: 0.4331 - val_loss: 0.7968\n",
            "Epoch 4/10\n",
            "\u001b[1m625/625\u001b[0m \u001b[32m━━━━━━━━━━━━━━━━━━━━\u001b[0m\u001b[37m\u001b[0m \u001b[1m11s\u001b[0m 15ms/step - char_0_accuracy: 0.9999 - char_0_loss: 0.0012 - char_1_accuracy: 0.9965 - char_1_loss: 0.0136 - char_2_accuracy: 0.9734 - char_2_loss: 0.0886 - char_3_accuracy: 0.9452 - char_3_loss: 0.1798 - char_4_accuracy: 0.9026 - char_4_loss: 0.3619 - loss: 0.6451 - val_char_0_accuracy: 1.0000 - val_char_0_loss: 3.3473e-05 - val_char_1_accuracy: 0.9962 - val_char_1_loss: 0.0138 - val_char_2_accuracy: 0.9647 - val_char_2_loss: 0.1540 - val_char_3_accuracy: 0.9444 - val_char_3_loss: 0.2198 - val_char_4_accuracy: 0.8988 - val_char_4_loss: 0.4642 - val_loss: 0.8510\n",
            "Epoch 5/10\n",
            "\u001b[1m625/625\u001b[0m \u001b[32m━━━━━━━━━━━━━━━━━━━━\u001b[0m\u001b[37m\u001b[0m \u001b[1m10s\u001b[0m 14ms/step - char_0_accuracy: 0.9999 - char_0_loss: 0.0010 - char_1_accuracy: 0.9971 - char_1_loss: 0.0119 - char_2_accuracy: 0.9760 - char_2_loss: 0.0835 - char_3_accuracy: 0.9484 - char_3_loss: 0.1689 - char_4_accuracy: 0.9027 - char_4_loss: 0.3538 - loss: 0.6192 - val_char_0_accuracy: 1.0000 - val_char_0_loss: 6.9095e-05 - val_char_1_accuracy: 0.9970 - val_char_1_loss: 0.0118 - val_char_2_accuracy: 0.9652 - val_char_2_loss: 0.1369 - val_char_3_accuracy: 0.9489 - val_char_3_loss: 0.1947 - val_char_4_accuracy: 0.8986 - val_char_4_loss: 0.4373 - val_loss: 0.7800\n",
            "Epoch 6/10\n",
            "\u001b[1m625/625\u001b[0m \u001b[32m━━━━━━━━━━━━━━━━━━━━\u001b[0m\u001b[37m\u001b[0m \u001b[1m9s\u001b[0m 14ms/step - char_0_accuracy: 0.9999 - char_0_loss: 7.8534e-04 - char_1_accuracy: 0.9966 - char_1_loss: 0.0127 - char_2_accuracy: 0.9753 - char_2_loss: 0.0837 - char_3_accuracy: 0.9501 - char_3_loss: 0.1637 - char_4_accuracy: 0.9074 - char_4_loss: 0.3345 - loss: 0.5954 - val_char_0_accuracy: 1.0000 - val_char_0_loss: 4.1791e-05 - val_char_1_accuracy: 0.9970 - val_char_1_loss: 0.0109 - val_char_2_accuracy: 0.9662 - val_char_2_loss: 0.1467 - val_char_3_accuracy: 0.9491 - val_char_3_loss: 0.1983 - val_char_4_accuracy: 0.9009 - val_char_4_loss: 0.4332 - val_loss: 0.7889\n",
            "Epoch 7/10\n",
            "\u001b[1m625/625\u001b[0m \u001b[32m━━━━━━━━━━━━━━━━━━━━\u001b[0m\u001b[37m\u001b[0m \u001b[1m10s\u001b[0m 14ms/step - char_0_accuracy: 0.9999 - char_0_loss: 8.2890e-04 - char_1_accuracy: 0.9973 - char_1_loss: 0.0104 - char_2_accuracy: 0.9768 - char_2_loss: 0.0787 - char_3_accuracy: 0.9532 - char_3_loss: 0.1575 - char_4_accuracy: 0.9119 - char_4_loss: 0.3210 - loss: 0.5684 - val_char_0_accuracy: 1.0000 - val_char_0_loss: 3.0274e-05 - val_char_1_accuracy: 0.9966 - val_char_1_loss: 0.0118 - val_char_2_accuracy: 0.9661 - val_char_2_loss: 0.1493 - val_char_3_accuracy: 0.9451 - val_char_3_loss: 0.2092 - val_char_4_accuracy: 0.8995 - val_char_4_loss: 0.4575 - val_loss: 0.8267\n",
            "Epoch 8/10\n",
            "\u001b[1m625/625\u001b[0m \u001b[32m━━━━━━━━━━━━━━━━━━━━\u001b[0m\u001b[37m\u001b[0m \u001b[1m9s\u001b[0m 14ms/step - char_0_accuracy: 0.9999 - char_0_loss: 7.3165e-04 - char_1_accuracy: 0.9975 - char_1_loss: 0.0107 - char_2_accuracy: 0.9752 - char_2_loss: 0.0782 - char_3_accuracy: 0.9524 - char_3_loss: 0.1498 - char_4_accuracy: 0.9136 - char_4_loss: 0.3112 - loss: 0.5506 - val_char_0_accuracy: 1.0000 - val_char_0_loss: 1.3126e-05 - val_char_1_accuracy: 0.9961 - val_char_1_loss: 0.0141 - val_char_2_accuracy: 0.9668 - val_char_2_loss: 0.1507 - val_char_3_accuracy: 0.9467 - val_char_3_loss: 0.2147 - val_char_4_accuracy: 0.9007 - val_char_4_loss: 0.4631 - val_loss: 0.8408\n",
            "Epoch 9/10\n",
            "\u001b[1m625/625\u001b[0m \u001b[32m━━━━━━━━━━━━━━━━━━━━\u001b[0m\u001b[37m\u001b[0m \u001b[1m11s\u001b[0m 14ms/step - char_0_accuracy: 0.9999 - char_0_loss: 6.0507e-04 - char_1_accuracy: 0.9978 - char_1_loss: 0.0091 - char_2_accuracy: 0.9775 - char_2_loss: 0.0731 - char_3_accuracy: 0.9525 - char_3_loss: 0.1486 - char_4_accuracy: 0.9123 - char_4_loss: 0.3150 - loss: 0.5464 - val_char_0_accuracy: 1.0000 - val_char_0_loss: 3.7851e-05 - val_char_1_accuracy: 0.9964 - val_char_1_loss: 0.0104 - val_char_2_accuracy: 0.9655 - val_char_2_loss: 0.1467 - val_char_3_accuracy: 0.9491 - val_char_3_loss: 0.1984 - val_char_4_accuracy: 0.9030 - val_char_4_loss: 0.4263 - val_loss: 0.7806\n",
            "Epoch 10/10\n",
            "\u001b[1m625/625\u001b[0m \u001b[32m━━━━━━━━━━━━━━━━━━━━\u001b[0m\u001b[37m\u001b[0m \u001b[1m10s\u001b[0m 14ms/step - char_0_accuracy: 0.9998 - char_0_loss: 0.0013 - char_1_accuracy: 0.9978 - char_1_loss: 0.0095 - char_2_accuracy: 0.9762 - char_2_loss: 0.0753 - char_3_accuracy: 0.9543 - char_3_loss: 0.1434 - char_4_accuracy: 0.9134 - char_4_loss: 0.3106 - loss: 0.5401 - val_char_0_accuracy: 1.0000 - val_char_0_loss: 1.5255e-05 - val_char_1_accuracy: 0.9976 - val_char_1_loss: 0.0088 - val_char_2_accuracy: 0.9675 - val_char_2_loss: 0.1537 - val_char_3_accuracy: 0.9503 - val_char_3_loss: 0.1979 - val_char_4_accuracy: 0.9021 - val_char_4_loss: 0.4486 - val_loss: 0.8074\n"
          ]
        }
      ]
    },
    {
      "cell_type": "markdown",
      "source": [
        "### Save the model"
      ],
      "metadata": {
        "id": "-rnOhU8CtFo7"
      }
    },
    {
      "cell_type": "code",
      "source": [
        "model.save('captcha_model.h5')\n"
      ],
      "metadata": {
        "colab": {
          "base_uri": "https://localhost:8080/"
        },
        "id": "qAlRqCOPig3V",
        "outputId": "503c88bd-606e-4620-83ab-87a39085c24f"
      },
      "execution_count": 14,
      "outputs": [
        {
          "output_type": "stream",
          "name": "stderr",
          "text": [
            "WARNING:absl:You are saving your model as an HDF5 file via `model.save()` or `keras.saving.save_model(model)`. This file format is considered legacy. We recommend using instead the native Keras format, e.g. `model.save('my_model.keras')` or `keras.saving.save_model(model, 'my_model.keras')`. \n"
          ]
        }
      ]
    },
    {
      "cell_type": "markdown",
      "source": [
        "## Testing"
      ],
      "metadata": {
        "id": "eBky_nYYtQHo"
      }
    },
    {
      "cell_type": "code",
      "source": [
        "import numpy as np\n",
        "\n",
        "def decode_predictions(preds):\n",
        "    \"\"\"\n",
        "    preds: list of 5 arrays, each shape (num_samples, num_classes)\n",
        "    Returns: list of decoded strings\n",
        "    \"\"\"\n",
        "    decoded = []\n",
        "    for i in range(len(preds[0])):\n",
        "        word = ''\n",
        "        for j in range(CAPTCHA_LENGTH):\n",
        "            pred_char = np.argmax(preds[j][i])\n",
        "            word += num_to_char[pred_char]\n",
        "        decoded.append(word)\n",
        "    return decoded\n"
      ],
      "metadata": {
        "id": "7vLDAAj8n91o"
      },
      "execution_count": 22,
      "outputs": []
    },
    {
      "cell_type": "code",
      "source": [
        "def predict_and_show(model, images, true_labels=None, num_to_show=10):\n",
        "    preds = model.predict(images)\n",
        "    decoded_preds = decode_predictions(preds)\n",
        "\n",
        "    for i in range(min(num_to_show, len(decoded_preds))):\n",
        "        print(f\"Prediction: {decoded_preds[i]}\", end='')\n",
        "        if true_labels is not None:\n",
        "            true_word = ''.join([num_to_char[c] for c in true_labels[i]])\n",
        "            print(f\" - True: {true_word}\")\n",
        "        else:\n",
        "            print()\n"
      ],
      "metadata": {
        "id": "lkGqHWBFoFIM"
      },
      "execution_count": 23,
      "outputs": []
    },
    {
      "cell_type": "code",
      "source": [
        "predict_and_show(model, X_val, y_val, num_to_show=20)\n"
      ],
      "metadata": {
        "colab": {
          "base_uri": "https://localhost:8080/"
        },
        "id": "26zIbkm2lTQl",
        "outputId": "248815d0-dd09-4763-9917-8fbd7ccb6e04"
      },
      "execution_count": 24,
      "outputs": [
        {
          "output_type": "stream",
          "name": "stdout",
          "text": [
            "\u001b[1m313/313\u001b[0m \u001b[32m━━━━━━━━━━━━━━━━━━━━\u001b[0m\u001b[37m\u001b[0m \u001b[1m2s\u001b[0m 3ms/step\n",
            "Prediction: X6HY8 - True: X6HY8\n",
            "Prediction: ST3TH - True: ST3TH\n",
            "Prediction: P10XT - True: P10XT\n",
            "Prediction: XMN5B - True: XMN5B\n",
            "Prediction: E7Y61 - True: E7Y61\n",
            "Prediction: W55VI - True: W5YVM\n",
            "Prediction: IYIUI - True: IY3IU\n",
            "Prediction: ZWFYU - True: ZWFYU\n",
            "Prediction: Y1RZZ - True: Y1RZZ\n",
            "Prediction: 28VDF - True: 28VDF\n",
            "Prediction: XMXQG - True: XMXQG\n",
            "Prediction: UJQIQ - True: UJQIQ\n",
            "Prediction: 28KV0 - True: 28KV0\n",
            "Prediction: ZNS5Z - True: ZNS5Z\n",
            "Prediction: 10TZ8 - True: 10TZ8\n",
            "Prediction: WUPP8 - True: WUPY8\n",
            "Prediction: L8ZH5 - True: L8ZH5\n",
            "Prediction: HHLJB - True: HHLJB\n",
            "Prediction: 7WEI6 - True: 7WEI6\n",
            "Prediction: 8ZC6D - True: 8ZC6D\n"
          ]
        }
      ]
    },
    {
      "cell_type": "code",
      "source": [
        "from PIL import Image\n",
        "\n",
        "def generate_single_captcha_image(word, font):\n",
        "    img = Image.new(\"L\", IMAGE_SIZE, color=255)\n",
        "    draw = ImageDraw.Draw(img)\n",
        "    draw.text((10, 5), word, font=font, fill=0)\n",
        "    img = img.resize((IMG_WIDTH, IMG_HEIGHT))\n",
        "    img = np.array(img) / 255.0\n",
        "    img = img.reshape(1, IMG_HEIGHT, IMG_WIDTH, 1)\n",
        "    return img\n",
        "\n",
        "\n",
        "import random\n",
        "\n",
        "random_word = ''.join(random.choices(CHARS, k=5))\n",
        "random_font = random.choice(fonts)\n",
        "print(\"Generated word:\", random_word)\n",
        "\n",
        "test_img = generate_single_captcha_image(random_word, random_font)\n",
        "predict_and_show(model, test_img, true_labels=[ [char_to_num[c] for c in random_word] ], num_to_show=1)\n"
      ],
      "metadata": {
        "colab": {
          "base_uri": "https://localhost:8080/"
        },
        "id": "zh04KWX5oU5a",
        "outputId": "c563e29a-1d9e-4591-9ba1-871760b66299"
      },
      "execution_count": 25,
      "outputs": [
        {
          "output_type": "stream",
          "name": "stdout",
          "text": [
            "Generated word: IOQE7\n",
            "\u001b[1m1/1\u001b[0m \u001b[32m━━━━━━━━━━━━━━━━━━━━\u001b[0m\u001b[37m\u001b[0m \u001b[1m0s\u001b[0m 210ms/step\n",
            "Prediction: IOQE7 - True: IOQE7\n"
          ]
        }
      ]
    }
  ]
}